{
  "nbformat": 4,
  "nbformat_minor": 0,
  "metadata": {
    "colab": {
      "provenance": [],
      "authorship_tag": "ABX9TyN6vp0MVTPF7F3p3BH2JEs9",
      "include_colab_link": true
    },
    "kernelspec": {
      "name": "python3",
      "display_name": "Python 3"
    },
    "language_info": {
      "name": "python"
    }
  },
  "cells": [
    {
      "cell_type": "markdown",
      "metadata": {
        "id": "view-in-github",
        "colab_type": "text"
      },
      "source": [
        "<a href=\"https://colab.research.google.com/github/ajitjadhav10/Mini_Projects/blob/main/PDF%20to%20DOCX%20converter/Convert_pdf_to_docx.ipynb\" target=\"_parent\"><img src=\"https://colab.research.google.com/assets/colab-badge.svg\" alt=\"Open In Colab\"/></a>"
      ]
    },
    {
      "cell_type": "code",
      "source": [
        "pip install pdf2docx --quiet"
      ],
      "metadata": {
        "id": "RuAFxQDcHJJN"
      },
      "execution_count": 5,
      "outputs": []
    },
    {
      "cell_type": "code",
      "execution_count": 6,
      "metadata": {
        "id": "6EPmQPbSGu-t"
      },
      "outputs": [],
      "source": [
        "from pdf2docx import Converter"
      ]
    },
    {
      "cell_type": "code",
      "source": [
        "pdf_file_name='Ajit_Jadhav_Resume.pdf'\n",
        "docx_file_name='Ajit_Jadhav_Resume.docx'\n",
        "cv=Converter(pdf_file_name)\n",
        "cv.convert(docx_file_name)\n",
        "cv.close"
      ],
      "metadata": {
        "colab": {
          "base_uri": "https://localhost:8080/"
        },
        "id": "uK-COsErG2aH",
        "outputId": "45bf7479-1d2a-43f7-81af-0ae7dc7a149c"
      },
      "execution_count": 8,
      "outputs": [
        {
          "output_type": "execute_result",
          "data": {
            "text/plain": [
              "<bound method Converter.close of <pdf2docx.converter.Converter object at 0x7f53ef66b110>>"
            ]
          },
          "metadata": {},
          "execution_count": 8
        }
      ]
    }
  ]
}